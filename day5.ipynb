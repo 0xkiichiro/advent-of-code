{
 "cells": [
  {
   "cell_type": "code",
   "execution_count": 13,
   "metadata": {},
   "outputs": [],
   "source": [
    "with open(\"day5_data.txt\", \"r\") as file_contents:\n",
    "    data = file_contents.read()"
   ]
  },
  {
   "cell_type": "code",
   "execution_count": 14,
   "metadata": {},
   "outputs": [
    {
     "data": {
      "text/plain": [
       "'[S]                 [T] [Q]        \\n[L]             [B] [M] [P]     [T]\\n[F]     [S]     [Z] [N] [S]     [R]\\n[Z] [R] [N]     [R] [D] [F]     [V]\\n[D] [Z] [H] [J] [W] [G] [W]     [G]\\n[B] [M] [C] [F] [H] [Z] [N] [R] [L]\\n[R] [B] [L] [C] [G] [J] [L] [Z] [C]\\n[H] [T] [Z] [S] [P] [V] [G] [M] [M]\\n 1   2   3   4   5   6   7   8   9 \\n\\nmove 6 from 1 to 7\\nmove 2 from 2 to 4\\nmove 2 from 7 to 4\\nmove 6 from 4 to 3\\nmove 1 from 5 to 1\\nmove 3 from 8 to 3\\nmove 15 from 3 to 4\\nmove 6 from 5 to 9\\nmove 14 from 4 to 2\\nmove 3 from 2 to 7\\nmove 1 from 2 to 7\\nmove 9 from 9 to 1\\nmove 3 from 2 to 1\\nmove 7 from 6 to 7\\nmove 1 from 6 to 8\\nmove 2 from 9 to 1\\nmove 9 from 2 to 3\\nmove 8 from 3 to 9\\nmove 1 from 1 to 4\\nmove 1 from 8 to 6\\nmove 1 from 6 to 2\\nmove 5 from 9 to 8\\nmove 2 from 9 to 1\\nmove 1 from 4 to 2\\nmove 17 from 1 to 9\\nmove 1 from 3 to 1\\nmove 3 from 2 to 3\\nmove 2 from 4 to 5\\nmove 12 from 7 to 3\\nmove 16 from 9 to 2\\nmove 5 from 7 to 5\\nmove 2 from 1 to 2\\nmove 1 from 3 to 6\\nmove 1 from 4 to 6\\nmove 1 from 7 to 3\\nmove 1 from 6 to 3\\nmove 7 from 3 to 4\\nmove 5 from 8 to 3\\nmove 1 from 6 to 7\\nmove 7 from 3 to 4\\nmove 6 from 3 to 1\\nmove 2 from 4 to 8\\nmove 1 from 5 to 2\\nmove 10 from 4 to 5\\nmove 3 from 5 to 2\\nmove 2 from 8 to 9\\nmove 5 from 2 to 8\\nmove 1 from 3 to 5\\nmove 2 from 5 to 8\\nmove 12 from 5 to 7\\nmove 1 from 4 to 2\\nmove 5 from 9 to 4\\nmove 1 from 2 to 5\\nmove 6 from 1 to 3\\nmove 6 from 3 to 5\\nmove 10 from 7 to 4\\nmove 2 from 7 to 3\\nmove 4 from 7 to 6\\nmove 1 from 9 to 5\\nmove 12 from 2 to 1\\nmove 1 from 8 to 7\\nmove 3 from 7 to 4\\nmove 4 from 4 to 8\\nmove 7 from 5 to 3\\nmove 1 from 2 to 4\\nmove 10 from 1 to 5\\nmove 2 from 1 to 2\\nmove 4 from 6 to 7\\nmove 8 from 8 to 3\\nmove 5 from 4 to 9\\nmove 12 from 3 to 8\\nmove 4 from 3 to 8\\nmove 2 from 9 to 2\\nmove 3 from 5 to 4\\nmove 1 from 3 to 5\\nmove 1 from 7 to 6\\nmove 14 from 4 to 6\\nmove 6 from 5 to 9\\nmove 8 from 2 to 8\\nmove 3 from 5 to 7\\nmove 21 from 8 to 4\\nmove 16 from 4 to 9\\nmove 8 from 6 to 2\\nmove 4 from 6 to 1\\nmove 1 from 4 to 6\\nmove 2 from 4 to 8\\nmove 3 from 1 to 8\\nmove 2 from 4 to 6\\nmove 1 from 6 to 2\\nmove 3 from 8 to 4\\nmove 2 from 2 to 5\\nmove 2 from 5 to 7\\nmove 1 from 8 to 9\\nmove 1 from 4 to 9\\nmove 1 from 1 to 6\\nmove 3 from 6 to 3\\nmove 3 from 2 to 3\\nmove 1 from 4 to 6\\nmove 3 from 6 to 7\\nmove 10 from 9 to 7\\nmove 1 from 4 to 7\\nmove 6 from 8 to 3\\nmove 1 from 6 to 8\\nmove 2 from 2 to 5\\nmove 1 from 2 to 1\\nmove 1 from 8 to 9\\nmove 1 from 2 to 8\\nmove 1 from 1 to 9\\nmove 7 from 9 to 1\\nmove 1 from 8 to 5\\nmove 7 from 1 to 7\\nmove 3 from 5 to 8\\nmove 3 from 7 to 2\\nmove 1 from 8 to 4\\nmove 1 from 2 to 4\\nmove 2 from 4 to 6\\nmove 5 from 3 to 1\\nmove 9 from 7 to 2\\nmove 6 from 3 to 8\\nmove 8 from 2 to 7\\nmove 2 from 6 to 4\\nmove 2 from 1 to 7\\nmove 2 from 1 to 4\\nmove 24 from 7 to 4\\nmove 4 from 8 to 9\\nmove 2 from 7 to 5\\nmove 1 from 5 to 2\\nmove 1 from 3 to 8\\nmove 4 from 2 to 8\\nmove 13 from 9 to 2\\nmove 2 from 8 to 6\\nmove 3 from 9 to 6\\nmove 26 from 4 to 2\\nmove 1 from 5 to 7\\nmove 2 from 6 to 2\\nmove 2 from 4 to 1\\nmove 7 from 2 to 1\\nmove 15 from 2 to 6\\nmove 8 from 2 to 8\\nmove 4 from 6 to 8\\nmove 9 from 2 to 9\\nmove 13 from 6 to 7\\nmove 6 from 1 to 9\\nmove 2 from 2 to 4\\nmove 4 from 1 to 6\\nmove 3 from 8 to 3\\nmove 1 from 4 to 9\\nmove 2 from 6 to 7\\nmove 1 from 4 to 3\\nmove 3 from 3 to 2\\nmove 14 from 7 to 4\\nmove 5 from 9 to 5\\nmove 9 from 8 to 5\\nmove 7 from 9 to 6\\nmove 2 from 5 to 6\\nmove 2 from 9 to 2\\nmove 10 from 5 to 1\\nmove 1 from 3 to 1\\nmove 2 from 8 to 1\\nmove 1 from 9 to 2\\nmove 1 from 7 to 5\\nmove 4 from 2 to 1\\nmove 1 from 9 to 8\\nmove 3 from 4 to 1\\nmove 1 from 8 to 6\\nmove 12 from 1 to 5\\nmove 1 from 1 to 6\\nmove 1 from 7 to 5\\nmove 4 from 6 to 9\\nmove 2 from 2 to 4\\nmove 1 from 9 to 6\\nmove 1 from 1 to 5\\nmove 2 from 9 to 7\\nmove 10 from 6 to 5\\nmove 1 from 6 to 7\\nmove 20 from 5 to 1\\nmove 1 from 7 to 9\\nmove 2 from 9 to 1\\nmove 3 from 5 to 1\\nmove 2 from 8 to 4\\nmove 2 from 8 to 7\\nmove 1 from 5 to 9\\nmove 1 from 8 to 4\\nmove 22 from 1 to 7\\nmove 5 from 4 to 8\\nmove 1 from 5 to 9\\nmove 19 from 7 to 4\\nmove 2 from 9 to 1\\nmove 1 from 5 to 9\\nmove 10 from 1 to 8\\nmove 1 from 9 to 1\\nmove 1 from 8 to 3\\nmove 8 from 4 to 7\\nmove 1 from 5 to 6\\nmove 3 from 4 to 5\\nmove 1 from 5 to 9\\nmove 11 from 7 to 4\\nmove 4 from 4 to 9\\nmove 1 from 6 to 2\\nmove 1 from 3 to 9\\nmove 5 from 9 to 4\\nmove 5 from 7 to 9\\nmove 23 from 4 to 2\\nmove 17 from 2 to 7\\nmove 2 from 2 to 8\\nmove 4 from 4 to 7\\nmove 1 from 4 to 5\\nmove 2 from 5 to 2\\nmove 5 from 8 to 9\\nmove 5 from 2 to 7\\nmove 9 from 7 to 5\\nmove 11 from 9 to 2\\nmove 1 from 4 to 3\\nmove 5 from 8 to 7\\nmove 3 from 8 to 5\\nmove 2 from 1 to 3\\nmove 2 from 3 to 9\\nmove 1 from 5 to 8\\nmove 5 from 7 to 5\\nmove 15 from 5 to 4\\nmove 2 from 8 to 1\\nmove 2 from 5 to 1\\nmove 4 from 4 to 1\\nmove 1 from 8 to 7\\nmove 8 from 2 to 1\\nmove 4 from 2 to 8\\nmove 2 from 7 to 4\\nmove 5 from 8 to 6\\nmove 5 from 7 to 9\\nmove 4 from 6 to 5\\nmove 7 from 4 to 8\\nmove 1 from 6 to 1\\nmove 1 from 3 to 1\\nmove 2 from 5 to 1\\nmove 7 from 1 to 5\\nmove 5 from 1 to 3\\nmove 4 from 7 to 9\\nmove 4 from 3 to 9\\nmove 2 from 9 to 7\\nmove 6 from 9 to 2\\nmove 1 from 4 to 1\\nmove 1 from 3 to 5\\nmove 1 from 2 to 5\\nmove 5 from 9 to 4\\nmove 4 from 4 to 6\\nmove 1 from 8 to 9\\nmove 8 from 4 to 3\\nmove 7 from 7 to 3\\nmove 5 from 1 to 3\\nmove 11 from 5 to 9\\nmove 1 from 7 to 6\\nmove 2 from 3 to 5\\nmove 1 from 3 to 1\\nmove 3 from 6 to 2\\nmove 2 from 5 to 1\\nmove 2 from 1 to 2\\nmove 3 from 1 to 5\\nmove 5 from 9 to 2\\nmove 2 from 6 to 8\\nmove 2 from 3 to 8\\nmove 4 from 9 to 7\\nmove 3 from 5 to 2\\nmove 2 from 1 to 8\\nmove 1 from 9 to 8\\nmove 1 from 9 to 2\\nmove 4 from 7 to 9\\nmove 11 from 8 to 7\\nmove 1 from 8 to 2\\nmove 6 from 9 to 7\\nmove 3 from 7 to 1\\nmove 13 from 2 to 7\\nmove 24 from 7 to 1\\nmove 2 from 2 to 6\\nmove 1 from 8 to 3\\nmove 1 from 9 to 3\\nmove 5 from 2 to 4\\nmove 1 from 2 to 5\\nmove 1 from 6 to 2\\nmove 1 from 6 to 3\\nmove 1 from 2 to 4\\nmove 3 from 7 to 3\\nmove 2 from 1 to 7\\nmove 2 from 3 to 8\\nmove 2 from 7 to 8\\nmove 9 from 3 to 2\\nmove 3 from 4 to 8\\nmove 1 from 5 to 1\\nmove 9 from 2 to 1\\nmove 3 from 4 to 9\\nmove 1 from 7 to 8\\nmove 6 from 3 to 9\\nmove 2 from 1 to 5\\nmove 15 from 1 to 3\\nmove 13 from 3 to 9\\nmove 11 from 1 to 4\\nmove 5 from 4 to 1\\nmove 6 from 3 to 6\\nmove 4 from 4 to 8\\nmove 6 from 1 to 4\\nmove 1 from 5 to 2\\nmove 1 from 2 to 1\\nmove 3 from 4 to 2\\nmove 2 from 8 to 5\\nmove 2 from 4 to 2\\nmove 9 from 9 to 3\\nmove 9 from 3 to 5\\nmove 2 from 9 to 4\\nmove 5 from 2 to 6\\nmove 1 from 1 to 8\\nmove 1 from 4 to 1\\nmove 10 from 9 to 2\\nmove 9 from 2 to 4\\nmove 10 from 4 to 1\\nmove 3 from 1 to 3\\nmove 4 from 1 to 2\\nmove 5 from 2 to 4\\nmove 2 from 5 to 2\\nmove 4 from 1 to 7\\nmove 10 from 5 to 4\\nmove 2 from 2 to 4\\nmove 1 from 9 to 2\\nmove 2 from 3 to 5\\nmove 1 from 3 to 5\\nmove 3 from 6 to 7\\nmove 8 from 4 to 9\\nmove 6 from 6 to 1\\nmove 4 from 9 to 5\\nmove 2 from 9 to 1\\nmove 1 from 2 to 6\\nmove 6 from 5 to 2\\nmove 3 from 7 to 9\\nmove 4 from 8 to 2\\nmove 1 from 7 to 9\\nmove 1 from 5 to 3\\nmove 2 from 7 to 4\\nmove 1 from 7 to 1\\nmove 14 from 1 to 9\\nmove 1 from 1 to 9\\nmove 1 from 3 to 8\\nmove 3 from 2 to 5\\nmove 2 from 4 to 2\\nmove 6 from 8 to 1\\nmove 1 from 2 to 1\\nmove 5 from 1 to 9\\nmove 1 from 1 to 7\\nmove 2 from 8 to 5\\nmove 1 from 5 to 4\\nmove 1 from 6 to 1\\nmove 8 from 2 to 7\\nmove 2 from 6 to 1\\nmove 9 from 9 to 5\\nmove 11 from 4 to 8\\nmove 4 from 7 to 4\\nmove 6 from 4 to 6\\nmove 1 from 7 to 4\\nmove 6 from 6 to 7\\nmove 1 from 5 to 9\\nmove 6 from 8 to 9\\nmove 8 from 9 to 5\\nmove 1 from 4 to 5\\nmove 15 from 9 to 3\\nmove 3 from 1 to 4\\nmove 6 from 7 to 2\\nmove 3 from 4 to 9\\nmove 2 from 7 to 3\\nmove 1 from 7 to 3\\nmove 1 from 7 to 2\\nmove 2 from 8 to 1\\nmove 3 from 8 to 5\\nmove 2 from 1 to 7\\nmove 8 from 3 to 6\\nmove 3 from 6 to 5\\nmove 1 from 6 to 1\\nmove 10 from 5 to 7\\nmove 6 from 5 to 4\\nmove 4 from 2 to 4\\nmove 6 from 5 to 1\\nmove 6 from 1 to 8\\nmove 2 from 9 to 2\\nmove 2 from 9 to 7\\nmove 6 from 3 to 7\\nmove 1 from 3 to 5\\nmove 1 from 1 to 9\\nmove 2 from 8 to 1\\nmove 2 from 5 to 4\\nmove 3 from 3 to 7\\nmove 10 from 4 to 6\\nmove 1 from 9 to 7\\nmove 12 from 7 to 3\\nmove 12 from 3 to 8\\nmove 2 from 1 to 5\\nmove 1 from 1 to 3\\nmove 13 from 8 to 1\\nmove 7 from 7 to 1\\nmove 13 from 6 to 9\\nmove 1 from 7 to 4\\nmove 6 from 5 to 3\\nmove 3 from 4 to 3\\nmove 6 from 3 to 1\\nmove 10 from 9 to 4\\nmove 2 from 7 to 6\\nmove 8 from 1 to 9\\nmove 3 from 2 to 9\\nmove 1 from 3 to 5\\nmove 1 from 3 to 5\\nmove 1 from 1 to 4\\nmove 6 from 9 to 3\\nmove 2 from 6 to 7\\nmove 4 from 9 to 5\\nmove 4 from 1 to 6\\nmove 1 from 2 to 4\\nmove 6 from 1 to 4\\nmove 3 from 9 to 3\\nmove 3 from 6 to 8\\nmove 3 from 8 to 7\\nmove 5 from 5 to 1\\nmove 1 from 3 to 9\\nmove 1 from 9 to 5\\nmove 1 from 3 to 2\\nmove 2 from 5 to 1\\nmove 1 from 6 to 9\\nmove 1 from 6 to 3\\nmove 2 from 9 to 7\\nmove 2 from 8 to 1\\nmove 1 from 3 to 2\\nmove 1 from 2 to 5\\nmove 1 from 7 to 1\\nmove 7 from 7 to 9\\nmove 12 from 1 to 9\\nmove 1 from 5 to 2\\nmove 1 from 7 to 1\\nmove 13 from 4 to 7\\nmove 1 from 9 to 4\\nmove 5 from 7 to 3\\nmove 4 from 9 to 1\\nmove 8 from 7 to 9\\nmove 3 from 2 to 3\\nmove 4 from 3 to 7\\nmove 5 from 4 to 6\\nmove 3 from 9 to 4\\nmove 10 from 1 to 5\\nmove 3 from 4 to 7\\nmove 16 from 9 to 2\\nmove 3 from 9 to 2\\nmove 6 from 5 to 3\\nmove 4 from 6 to 2\\nmove 1 from 4 to 6\\nmove 2 from 6 to 8\\nmove 1 from 5 to 2\\nmove 1 from 5 to 8\\nmove 7 from 7 to 2\\nmove 16 from 2 to 1\\nmove 1 from 5 to 1\\nmove 10 from 2 to 8\\nmove 14 from 8 to 5\\nmove 2 from 2 to 6\\nmove 1 from 2 to 5\\nmove 2 from 2 to 1\\nmove 8 from 1 to 7\\nmove 4 from 1 to 7\\nmove 2 from 1 to 7\\nmove 5 from 3 to 2\\nmove 1 from 1 to 6\\nmove 2 from 2 to 5\\nmove 4 from 1 to 7\\nmove 1 from 2 to 8\\nmove 1 from 2 to 8\\nmove 3 from 6 to 7\\nmove 10 from 7 to 5\\nmove 1 from 2 to 8\\nmove 27 from 5 to 9\\nmove 1 from 5 to 6\\nmove 1 from 6 to 4\\nmove 1 from 4 to 3\\nmove 3 from 3 to 7\\nmove 4 from 3 to 6\\nmove 2 from 6 to 4\\nmove 3 from 8 to 1\\nmove 2 from 6 to 1\\nmove 12 from 7 to 8\\nmove 2 from 3 to 9\\nmove 1 from 9 to 2\\nmove 1 from 2 to 8\\nmove 2 from 1 to 2\\nmove 6 from 3 to 8\\nmove 1 from 7 to 4\\nmove 15 from 9 to 5\\nmove 7 from 9 to 4\\nmove 1 from 2 to 1\\nmove 16 from 8 to 2\\nmove 8 from 5 to 2\\nmove 24 from 2 to 9\\nmove 3 from 1 to 2\\nmove 24 from 9 to 1\\nmove 5 from 5 to 9\\nmove 3 from 4 to 1\\nmove 1 from 7 to 6\\nmove 1 from 6 to 3\\nmove 1 from 3 to 2\\nmove 3 from 2 to 3\\nmove 1 from 5 to 6\\nmove 1 from 2 to 7'"
      ]
     },
     "execution_count": 14,
     "metadata": {},
     "output_type": "execute_result"
    }
   ],
   "source": [
    "print(data)"
   ]
  },
  {
   "cell_type": "code",
   "execution_count": null,
   "metadata": {},
   "outputs": [],
   "source": []
  },
  {
   "cell_type": "code",
   "execution_count": null,
   "metadata": {},
   "outputs": [],
   "source": []
  }
 ],
 "metadata": {
  "kernelspec": {
   "display_name": "Python 3",
   "language": "python",
   "name": "python3"
  },
  "language_info": {
   "codemirror_mode": {
    "name": "ipython",
    "version": 3
   },
   "file_extension": ".py",
   "mimetype": "text/x-python",
   "name": "python",
   "nbconvert_exporter": "python",
   "pygments_lexer": "ipython3",
   "version": "3.11.1"
  },
  "orig_nbformat": 4,
  "vscode": {
   "interpreter": {
    "hash": "aee8b7b246df8f9039afb4144a1f6fd8d2ca17a180786b69acc140d282b71a49"
   }
  }
 },
 "nbformat": 4,
 "nbformat_minor": 2
}
